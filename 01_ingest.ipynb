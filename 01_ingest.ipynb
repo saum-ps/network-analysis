{
 "cells": [
  {
   "cell_type": "markdown",
   "id": "58210f0d",
   "metadata": {},
   "source": [
    "# 01 – Ingest CNS Call/SMS Logs\n",
    "Converts raw CSV → prod-like Parquet partitioned by month."
   ]
  },
  {
   "cell_type": "code",
   "execution_count": null,
   "id": "9558d4af",
   "metadata": {},
   "outputs": [],
   "source": [
    "import pandas as pd\n",
    "from pathlib import Path\n",
    "\n",
    "RAW = Path(\"data/cns_raw\")\n",
    "OUT = Path(\"parquet\")\n",
    "OUT.mkdir(exist_ok=True, parents=True)\n",
    "\n",
    "def load_and_normalise() -> pd.DataFrame:\n",
    "    calls = pd.read_csv(RAW / \"calls\" / \"edges.csv\")\n",
    "    sms   = pd.read_csv(RAW / \"sms\" / \"edges.csv\")\n",
    "\n",
    "    calls = calls.assign(channel=\"call\")\n",
    "    sms   = sms.assign(channel=\"sms\")\n",
    "\n",
    "    common = (\n",
    "        pd.concat([calls, sms], ignore_index=True)\n",
    "        .rename(columns={\"user_a\": \"src\", \"user_b\": \"dst\"})\n",
    "    )\n",
    "\n",
    "    # Partition by YYYY-MM for a prod-style layout\n",
    "    common[\"yyyy_mm\"] = pd.to_datetime(common[\"timestamp\"]).dt.strftime(\"%Y-%m\")\n",
    "    for key, part in common.groupby(\"yyyy_mm\"):\n",
    "        part.drop(columns=\"yyyy_mm\").to_parquet(OUT / f\"year_month={key}.parquet\", index=False)\n",
    "\n",
    "    return common\n",
    "\n",
    "if __name__ == \"__main__\":\n",
    "    df = load_and_normalise()\n",
    "    print(\"Rows written:\", len(df))"
   ]
  }
 ],
 "metadata": {
  "jupytext": {
   "cell_metadata_filter": "-all",
   "formats": "ipynb,py:percent",
   "main_language": "python"
  }
 },
 "nbformat": 4,
 "nbformat_minor": 5
}
