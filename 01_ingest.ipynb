{
 "cells": [
  {
   "cell_type": "markdown",
   "id": "58210f0d",
   "metadata": {},
   "source": [
    "# 01 – Ingest CNS Call/SMS Logs\n",
    "Converts raw CSV → prod-like Parquet partitioned by month."
   ]
  },
  {
   "cell_type": "code",
   "execution_count": null,
   "id": "9558d4af",
   "metadata": {},
   "outputs": [],
   "source": [
    "import pandas as pd\n",
    "from pathlib import Path\n",
    "from datetime import datetime, timedelta\n",
    "\n",
    "RAW = Path(\"data/cns_raw\")\n",
    "OUT = Path(\"parquet\")\n",
    "OUT.mkdir(exist_ok=True, parents=True)\n",
    "\n",
    "def load_and_normalise() -> pd.DataFrame:\n",
    "    # Read CSV files with proper column names\n",
    "    calls = pd.read_csv(RAW / \"calls\" / \"edges.csv\", \n",
    "                       names=[\"source\", \"target\", \"timestamp\", \"duration\"],\n",
    "                       comment=\"#\")\n",
    "    sms   = pd.read_csv(RAW / \"sms\" / \"edges.csv\", \n",
    "                       names=[\"source\", \"target\", \"timestamp\"],\n",
    "                       comment=\"#\")\n",
    "\n",
    "    calls = calls.assign(channel=\"call\")\n",
    "    sms   = sms.assign(channel=\"sms\")\n",
    "\n",
    "    common = (\n",
    "        pd.concat([calls, sms], ignore_index=True)\n",
    "        .rename(columns={\"source\": \"src\", \"target\": \"dst\"})\n",
    "    )\n",
    "\n",
    "    # Convert relative timestamps to absolute dates\n",
    "    # Based on CNS documentation: timestamps are seconds from study start\n",
    "    # Study started on a Sunday during school term (likely 2013)\n",
    "    # For now, using a reasonable reference date - adjust as needed\n",
    "    study_start = datetime(2013, 9, 1)  # Approximate study start date\n",
    "    \n",
    "    # Convert relative seconds to absolute datetime\n",
    "    common[\"datetime\"] = study_start + pd.to_timedelta(common[\"timestamp\"], unit='s')\n",
    "    common[\"yyyy_mm\"] = common[\"datetime\"].dt.strftime(\"%Y-%m\")\n",
    "    \n",
    "    for key, part in common.groupby(\"yyyy_mm\"):\n",
    "        part.drop(columns=[\"yyyy_mm\", \"datetime\"]).to_parquet(OUT / f\"year_month={key}.parquet\", index=False)\n",
    "\n",
    "    return common\n",
    "\n",
    "if __name__ == \"__main__\":\n",
    "    df = load_and_normalise()\n",
    "    print(\"Rows written:\", len(df))\n",
    "    print(\"Date range:\", df[\"datetime\"].min(), \"to\", df[\"datetime\"].max())"
   ]
  }
 ],
 "metadata": {
  "jupytext": {
   "cell_metadata_filter": "-all",
   "formats": "ipynb,py:percent",
   "main_language": "python"
  }
 },
 "nbformat": 4,
 "nbformat_minor": 5
}
